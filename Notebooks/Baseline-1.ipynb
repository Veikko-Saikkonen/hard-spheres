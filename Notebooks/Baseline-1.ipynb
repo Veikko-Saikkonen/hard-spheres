{
 "cells": [
  {
   "cell_type": "markdown",
   "metadata": {},
   "source": [
    "# Baseline-1.yaml\n"
   ]
  },
  {
   "cell_type": "code",
   "execution_count": null,
   "metadata": {},
   "outputs": [],
   "source": [
    "from pathlib import Path\n",
    "import yaml\n",
    "\n",
    "%cd ..\n",
    "\n",
    "from run import run_experiment\n",
    "\n",
    "%cd -"
   ]
  },
  {
   "cell_type": "code",
   "execution_count": null,
   "metadata": {},
   "outputs": [],
   "source": [
    "EXPERIMENT = Path(\"../experiments/Hard-Spheres-Square-mini/1-baseline.yaml\")\n",
    "\n",
    "# Ensure file found\n",
    "assert EXPERIMENT.is_file()"
   ]
  },
  {
   "cell_type": "code",
   "execution_count": null,
   "metadata": {},
   "outputs": [],
   "source": [
    "%cd - # The relative path for running the code has to be the root\n",
    "\n",
    "run_experiment(experiment_file=EXPERIMENT.__str__(), run_name=EXPERIMENT.name.__str__(), experiment=EXPERIMENT.parent.name.__str__())"
   ]
  }
 ],
 "metadata": {
  "kernelspec": {
   "display_name": ".venv",
   "language": "python",
   "name": "python3"
  },
  "language_info": {
   "codemirror_mode": {
    "name": "ipython",
    "version": 3
   },
   "file_extension": ".py",
   "mimetype": "text/x-python",
   "name": "python",
   "nbconvert_exporter": "python",
   "pygments_lexer": "ipython3",
   "version": "3.12.4"
  }
 },
 "nbformat": 4,
 "nbformat_minor": 2
}
