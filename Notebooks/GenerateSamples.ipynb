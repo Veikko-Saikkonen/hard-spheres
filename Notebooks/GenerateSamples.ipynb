{
 "cells": [
  {
   "cell_type": "code",
   "execution_count": null,
   "id": "6fdef290",
   "metadata": {},
   "outputs": [],
   "source": [
    "import os\n",
    "from pathlib import Path\n",
    "import glob\n",
    "import pandas as pd\n",
    "from ase.io import read"
   ]
  },
  {
   "cell_type": "code",
   "execution_count": null,
   "id": "a9ae1b6e",
   "metadata": {},
   "outputs": [],
   "source": [
    "EXPERIMENT = \"../CCGAN/results/3-with-dist-high-weight-long\"\n",
    "N_STRUC = 50"
   ]
  },
  {
   "cell_type": "code",
   "execution_count": null,
   "id": "8c32a933",
   "metadata": {},
   "outputs": [],
   "source": [
    "# Generate samples for all different phi values\n",
    "phis = [\n",
    "    \"0.86\",\n",
    "    \"0.84\",\n",
    "    \"0.80\",\n",
    "    \"0.70\",\n",
    "]\n",
    "\n",
    "experiment_name = EXPERIMENT.split(\"/\")[-1]+\"/\" # Get the experiment name from the path\n",
    "\n",
    "# Pick a generator, NOTE: Using the highest epoch generator\n",
    "generator_list = glob.glob(f\"{EXPERIMENT}/generator_*\")\n",
    "generator_list = sorted(generator_list, key=lambda x: int(x.split(\"_\")[-1].split(\".\")[0]))\n",
    "generator_path = generator_list[-1] # Get the last generator in the list\n",
    "\n",
    "command = lambda phi: f\"\"\"\n",
    "cd .. && cd CCGAN && python generate_structures.py \\\n",
    "--load_generator {generator_path} \\\n",
    "--n_struc {N_STRUC} \\\n",
    "--ref_struc ../data/processed/samples/phi-{phi}/samples.extxyz \\\n",
    "--label_phis {phi} \\\n",
    "--n_labels 1 \\\n",
    "--gen_channels_1 256 \\\n",
    "--latent_dim 256 \\\n",
    "--gen_label_dim 128 \\\n",
    "--write_fname ../data/gen-extxyz/{experiment_name} \\\n",
    "\"\"\"\n",
    "\n",
    "\n",
    "for phi in phis:\n",
    "    os.system(command(phi))"
   ]
  },
  {
   "cell_type": "code",
   "execution_count": null,
   "id": "f19437e9",
   "metadata": {},
   "outputs": [],
   "source": [
    "# Save the coordinates to a CSV file\n",
    "\n",
    "import os\n",
    "# os.mkdir(\"../data/gen\")\n",
    "# os.mkdir(\"../data/gen/phi-0.84\")\n",
    "\n",
    "from pathlib import Path\n",
    "\n",
    "files = glob.glob(f\"../data/gen-extxyz/{experiment_name}/phi-*.extxyz\")\n",
    "\n",
    "for file in files:\n",
    "    print(file)\n",
    "    output_folder = file.split(\"phi-\")[-1].split(\".\")[1]\n",
    "    # output_file = output_file.split(\"-\")[1]\n",
    "    output_folder= Path(f\"../data/gen/phi-0.{output_folder}\")\n",
    "    output_folder.mkdir(parents=True, exist_ok=True)\n",
    "    all_atoms = read(file, index=\":\", format=\"extxyz\")\n",
    "    \n",
    "    for i, atoms in enumerate(all_atoms):\n",
    "\n",
    "        output_file = f\"{output_folder}/sample-{i}\"\n",
    "        \n",
    "        with open(output_file, \"w+\") as f:\n",
    "            \n",
    "            L = atoms.info[\"L\"]\n",
    "            N = atoms.info[\"N\"]\n",
    "\n",
    "            header = \"\\t{N}\\t{L}\\t1626.81570886301\\t\\n\".format(N=N, L=L)\n",
    "            f.write(header)\n",
    "\n",
    "            _df = pd.DataFrame({\n",
    "                \"class\": atoms.get_atomic_numbers(),\n",
    "                \"x\": atoms.get_positions()[:,0],\n",
    "                \"y\": atoms.get_positions()[:,1],\n",
    "            }).to_csv(f, index=False, header=False, sep=\"\\t\")"
   ]
  },
  {
   "cell_type": "markdown",
   "id": "0cd140cd",
   "metadata": {},
   "source": [
    "## Save to the original data format"
   ]
  },
  {
   "cell_type": "code",
   "execution_count": null,
   "id": "cfd9c86f",
   "metadata": {},
   "outputs": [],
   "source": [
    "# Save the coordinates to a CSV file\n",
    "\n",
    "from pathlib import Path\n",
    "\n",
    "files = glob.glob(f\"../data/gen-extxyz/{experiment_name}/phi-*.extxyz\")\n",
    "\n",
    "for file in files:\n",
    "    output_folder = file.split(\"phi-\")[-1].split(\".\")[1]\n",
    "    # output_file = output_file.split(\"-\")[1]\n",
    "    output_folder= Path(f\"../data/gen/{experiment_name}/phi-0.{output_folder}\")\n",
    "    output_folder.mkdir(parents=True, exist_ok=True)\n",
    "    all_atoms = read(file, index=\":\", format=\"extxyz\")\n",
    "    \n",
    "    for i, atoms in enumerate(all_atoms):\n",
    "\n",
    "        output_file = f\"{output_folder}/sample-{i}\"\n",
    "        \n",
    "        with open(output_file, \"w+\") as f:\n",
    "            \n",
    "            L = atoms.info[\"L\"]\n",
    "            N = atoms.info[\"N\"]\n",
    "\n",
    "            header = \"\\t{N}\\t{L}\\t1626.81570886301\\t\\n\".format(N=N, L=L)\n",
    "            f.write(header)\n",
    "\n",
    "            _df = pd.DataFrame({\n",
    "                \"class\": atoms.get_atomic_numbers(),\n",
    "                \"x\": atoms.get_positions()[:,0],\n",
    "                \"y\": atoms.get_positions()[:,1],\n",
    "            }).to_csv(f, index=False, header=False, sep=\"\\t\")\n"
   ]
  }
 ],
 "metadata": {
  "kernelspec": {
   "display_name": ".venv",
   "language": "python",
   "name": "python3"
  },
  "language_info": {
   "codemirror_mode": {
    "name": "ipython",
    "version": 3
   },
   "file_extension": ".py",
   "mimetype": "text/x-python",
   "name": "python",
   "nbconvert_exporter": "python",
   "pygments_lexer": "ipython3",
   "version": "3.12.4"
  }
 },
 "nbformat": 4,
 "nbformat_minor": 5
}
