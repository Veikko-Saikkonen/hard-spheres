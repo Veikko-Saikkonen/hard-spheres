{
 "cells": [
  {
   "cell_type": "markdown",
   "metadata": {},
   "source": [
    "## Imports"
   ]
  },
  {
   "cell_type": "code",
   "execution_count": 1,
   "metadata": {},
   "outputs": [],
   "source": [
    "%reload_ext autoreload\n",
    "%autoreload 2"
   ]
  },
  {
   "cell_type": "code",
   "execution_count": 2,
   "metadata": {},
   "outputs": [
    {
     "name": "stdout",
     "output_type": "stream",
     "text": [
      "/Users/veikko/Documents/GitHub/hard-spheres\n",
      "/Users/veikko/Documents/GitHub/hard-spheres/Notebooks\n"
     ]
    },
    {
     "data": {
      "text/plain": [
       "<Figure size 640x480 with 0 Axes>"
      ]
     },
     "metadata": {},
     "output_type": "display_data"
    }
   ],
   "source": [
    "# Basic\n",
    "from IPython.display import display\n",
    "\n",
    "# For OS-agnostic paths\n",
    "from pathlib import Path\n",
    "\n",
    "# Plotting\n",
    "from matplotlib import pyplot as plt\n",
    "import seaborn as sns\n",
    "import torch\n",
    "from torch import nn\n",
    "import pandas as pd\n",
    "import numpy as np\n",
    "sns.set_style(\"whitegrid\")\n",
    "from copy import deepcopy\n",
    "import glob, json\n",
    "from datetime import datetime\n",
    "import torch\n",
    "from torch import nn\n",
    "\n",
    "from torch.utils.data import DataLoader, Dataset\n",
    "from torch.utils.data import DataLoader, Dataset, TensorDataset\n",
    "\n",
    "\n",
    "from torchinfo import summary\n",
    "\n",
    "import mlflow\n",
    "\n",
    "%cd ..\n",
    "\n",
    "from src.utils import load_raw_data\n",
    "from src.plotting import plot_pointcloud, plot_sample_figures\n",
    "from src.models.HardSphereGAN import GAN\n",
    "from src.models.StaticScaler import StaticMinMaxScaler\n",
    "from src.HSDataset import HSDataset\n",
    "\n",
    "%cd -\n",
    "\n",
    "plt.set_cmap(\"viridis\")"
   ]
  },
  {
   "cell_type": "markdown",
   "metadata": {},
   "source": [
    "# Hard spheres model development\n",
    "\n",
    "\n",
    "First stage: Develop a CNN - based GAN to work with ordered point clouds.'\n",
    "\n",
    "This notebook is an attempt at the simpler hexagonal and square lattices after slow progress in the full-scale experiment."
   ]
  },
  {
   "cell_type": "code",
   "execution_count": 11,
   "metadata": {},
   "outputs": [
    {
     "name": "stdout",
     "output_type": "stream",
     "text": [
      "Number of Files found :  100\n"
     ]
    },
    {
     "data": {
      "text/html": [
       "<div>\n",
       "<style scoped>\n",
       "    .dataframe tbody tr th:only-of-type {\n",
       "        vertical-align: middle;\n",
       "    }\n",
       "\n",
       "    .dataframe tbody tr th {\n",
       "        vertical-align: top;\n",
       "    }\n",
       "\n",
       "    .dataframe thead th {\n",
       "        text-align: right;\n",
       "    }\n",
       "</style>\n",
       "<table border=\"1\" class=\"dataframe\">\n",
       "  <thead>\n",
       "    <tr style=\"text-align: right;\">\n",
       "      <th></th>\n",
       "      <th></th>\n",
       "      <th>class</th>\n",
       "      <th>x</th>\n",
       "      <th>y</th>\n",
       "      <th>r</th>\n",
       "    </tr>\n",
       "    <tr>\n",
       "      <th>experiment</th>\n",
       "      <th>sample</th>\n",
       "      <th></th>\n",
       "      <th></th>\n",
       "      <th></th>\n",
       "      <th></th>\n",
       "    </tr>\n",
       "  </thead>\n",
       "  <tbody>\n",
       "    <tr>\n",
       "      <th rowspan=\"11\" valign=\"top\">disorder-0.2</th>\n",
       "      <th>sample-1</th>\n",
       "      <td>1</td>\n",
       "      <td>-0.030240</td>\n",
       "      <td>0.007020</td>\n",
       "      <td>0.5</td>\n",
       "    </tr>\n",
       "    <tr>\n",
       "      <th>sample-1</th>\n",
       "      <td>1</td>\n",
       "      <td>1.017802</td>\n",
       "      <td>0.022341</td>\n",
       "      <td>0.5</td>\n",
       "    </tr>\n",
       "    <tr>\n",
       "      <th>sample-1</th>\n",
       "      <td>1</td>\n",
       "      <td>1.867262</td>\n",
       "      <td>-0.067134</td>\n",
       "      <td>0.5</td>\n",
       "    </tr>\n",
       "    <tr>\n",
       "      <th>sample-1</th>\n",
       "      <td>1</td>\n",
       "      <td>2.810836</td>\n",
       "      <td>-0.018990</td>\n",
       "      <td>0.5</td>\n",
       "    </tr>\n",
       "    <tr>\n",
       "      <th>sample-1</th>\n",
       "      <td>1</td>\n",
       "      <td>3.807303</td>\n",
       "      <td>0.056676</td>\n",
       "      <td>0.5</td>\n",
       "    </tr>\n",
       "    <tr>\n",
       "      <th>...</th>\n",
       "      <td>...</td>\n",
       "      <td>...</td>\n",
       "      <td>...</td>\n",
       "      <td>...</td>\n",
       "    </tr>\n",
       "    <tr>\n",
       "      <th>sample-99</th>\n",
       "      <td>1</td>\n",
       "      <td>-4.885654</td>\n",
       "      <td>-1.052958</td>\n",
       "      <td>0.5</td>\n",
       "    </tr>\n",
       "    <tr>\n",
       "      <th>sample-99</th>\n",
       "      <td>1</td>\n",
       "      <td>-3.872113</td>\n",
       "      <td>-1.066002</td>\n",
       "      <td>0.5</td>\n",
       "    </tr>\n",
       "    <tr>\n",
       "      <th>sample-99</th>\n",
       "      <td>1</td>\n",
       "      <td>-3.000729</td>\n",
       "      <td>-1.056671</td>\n",
       "      <td>0.5</td>\n",
       "    </tr>\n",
       "    <tr>\n",
       "      <th>sample-99</th>\n",
       "      <td>1</td>\n",
       "      <td>-1.996436</td>\n",
       "      <td>-0.901643</td>\n",
       "      <td>0.5</td>\n",
       "    </tr>\n",
       "    <tr>\n",
       "      <th>sample-99</th>\n",
       "      <td>1</td>\n",
       "      <td>-0.939445</td>\n",
       "      <td>-0.890730</td>\n",
       "      <td>0.5</td>\n",
       "    </tr>\n",
       "  </tbody>\n",
       "</table>\n",
       "<p>160000 rows × 4 columns</p>\n",
       "</div>"
      ],
      "text/plain": [
       "                        class         x         y    r\n",
       "experiment   sample                                   \n",
       "disorder-0.2 sample-1       1 -0.030240  0.007020  0.5\n",
       "             sample-1       1  1.017802  0.022341  0.5\n",
       "             sample-1       1  1.867262 -0.067134  0.5\n",
       "             sample-1       1  2.810836 -0.018990  0.5\n",
       "             sample-1       1  3.807303  0.056676  0.5\n",
       "...                       ...       ...       ...  ...\n",
       "             sample-99      1 -4.885654 -1.052958  0.5\n",
       "             sample-99      1 -3.872113 -1.066002  0.5\n",
       "             sample-99      1 -3.000729 -1.056671  0.5\n",
       "             sample-99      1 -1.996436 -0.901643  0.5\n",
       "             sample-99      1 -0.939445 -0.890730  0.5\n",
       "\n",
       "[160000 rows x 4 columns]"
      ]
     },
     "execution_count": 11,
     "metadata": {},
     "output_type": "execute_result"
    }
   ],
   "source": [
    "\n",
    "phis = [0.84] # Add more phis here\n",
    "\n",
    "\n",
    "path = Path(\"../data/raw/samples\") # Full scale data\n",
    "path = Path(\"../data/raw/crystal/Hex\") # Hex lattice\n",
    "path = Path(\"../data/raw/crystal/Sq\") # Square lattice\n",
    "\n",
    "files, dataframe, metadata = load_raw_data(path, phi=phis, subpath=\"disorder-0.2\")\n",
    "# files, dataframe, metadata = load_raw_data(path, phi=phis)\n",
    "\n",
    "dataframe.sort_index()"
   ]
  },
  {
   "cell_type": "code",
   "execution_count": 12,
   "metadata": {},
   "outputs": [],
   "source": [
    "# Hex lattice\n",
    "\n",
    "N = 1600 \n",
    "X_box = 41.076212368516387\n",
    "Y_box = 35.573043402379753   \n",
    " \n",
    "# Square lattice\n",
    "N = 1600\n",
    "X_box = 38.225722823651111\n",
    "y_box = 38.225722823651111 \n",
    "dataframe[\"r\"] = 0.375 # Fixed radius for all data, for square lattice"
   ]
  },
  {
   "cell_type": "code",
   "execution_count": 13,
   "metadata": {},
   "outputs": [
    {
     "data": {
      "text/html": [
       "<div>\n",
       "<style scoped>\n",
       "    .dataframe tbody tr th:only-of-type {\n",
       "        vertical-align: middle;\n",
       "    }\n",
       "\n",
       "    .dataframe tbody tr th {\n",
       "        vertical-align: top;\n",
       "    }\n",
       "\n",
       "    .dataframe thead th {\n",
       "        text-align: right;\n",
       "    }\n",
       "</style>\n",
       "<table border=\"1\" class=\"dataframe\">\n",
       "  <thead>\n",
       "    <tr style=\"text-align: right;\">\n",
       "      <th></th>\n",
       "      <th>x</th>\n",
       "      <th>y</th>\n",
       "      <th>r</th>\n",
       "    </tr>\n",
       "  </thead>\n",
       "  <tbody>\n",
       "    <tr>\n",
       "      <th>count</th>\n",
       "      <td>160000.000000</td>\n",
       "      <td>160000.000000</td>\n",
       "      <td>160000.000000</td>\n",
       "    </tr>\n",
       "    <tr>\n",
       "      <th>mean</th>\n",
       "      <td>0.500041</td>\n",
       "      <td>0.500069</td>\n",
       "      <td>0.004905</td>\n",
       "    </tr>\n",
       "    <tr>\n",
       "      <th>std</th>\n",
       "      <td>0.146112</td>\n",
       "      <td>0.157006</td>\n",
       "      <td>0.000000</td>\n",
       "    </tr>\n",
       "    <tr>\n",
       "      <th>min</th>\n",
       "      <td>0.247042</td>\n",
       "      <td>0.228179</td>\n",
       "      <td>0.004905</td>\n",
       "    </tr>\n",
       "    <tr>\n",
       "      <th>25%</th>\n",
       "      <td>0.373534</td>\n",
       "      <td>0.364100</td>\n",
       "      <td>0.004905</td>\n",
       "    </tr>\n",
       "    <tr>\n",
       "      <th>50%</th>\n",
       "      <td>0.500025</td>\n",
       "      <td>0.500002</td>\n",
       "      <td>0.004905</td>\n",
       "    </tr>\n",
       "    <tr>\n",
       "      <th>75%</th>\n",
       "      <td>0.626463</td>\n",
       "      <td>0.635903</td>\n",
       "      <td>0.004905</td>\n",
       "    </tr>\n",
       "    <tr>\n",
       "      <th>max</th>\n",
       "      <td>0.752958</td>\n",
       "      <td>0.771821</td>\n",
       "      <td>0.004905</td>\n",
       "    </tr>\n",
       "  </tbody>\n",
       "</table>\n",
       "</div>"
      ],
      "text/plain": [
       "                   x              y              r\n",
       "count  160000.000000  160000.000000  160000.000000\n",
       "mean        0.500041       0.500069       0.004905\n",
       "std         0.146112       0.157006       0.000000\n",
       "min         0.247042       0.228179       0.004905\n",
       "25%         0.373534       0.364100       0.004905\n",
       "50%         0.500025       0.500002       0.004905\n",
       "75%         0.626463       0.635903       0.004905\n",
       "max         0.752958       0.771821       0.004905"
      ]
     },
     "execution_count": 13,
     "metadata": {},
     "output_type": "execute_result"
    }
   ],
   "source": [
    "from sklearn.preprocessing import StandardScaler, MinMaxScaler\n",
    "\n",
    "scaler = StaticMinMaxScaler(\n",
    "    columns = [\"x\", \"y\", \"r\"],\n",
    "    maximum = [X_box, Y_box, 2*X_box], # NOTE: Tuned for physical feasibility\n",
    "    minimum = [-X_box, -Y_box, 0] # NOTE: Tuned for physical feasibility\n",
    ")\n",
    "\n",
    "dataframe_scaled = pd.DataFrame(scaler.transform(dataframe), columns=dataframe.columns)\n",
    "\n",
    "dataframe_scaled.set_index(dataframe.index, inplace=True)\n",
    "\n",
    "dataframe_scaled = dataframe_scaled.drop(columns=[\"class\"]) # Redundant with r\n",
    "# dataframe_scaled = dataframe_scaled.sort_values(by=[\"experiment\", \"sample\"])\n",
    "dataframe_scaled.describe().round(7)"
   ]
  },
  {
   "cell_type": "markdown",
   "metadata": {},
   "source": [
    "## Example"
   ]
  },
  {
   "cell_type": "code",
   "execution_count": 17,
   "metadata": {},
   "outputs": [
    {
     "name": "stdout",
     "output_type": "stream",
     "text": [
      "torch.Size([1, 1600, 3])\n"
     ]
    },
    {
     "data": {
      "text/plain": [
       "<Axes: >"
      ]
     },
     "execution_count": 17,
     "metadata": {},
     "output_type": "execute_result"
    },
    {
     "data": {
      "image/png": "[encoded data removed]",
      "text/plain": [
       "<Figure size 640x480 with 1 Axes>"
      ]
     },
     "metadata": {},
     "output_type": "display_data"
    }
   ],
   "source": [
    "sample = dataframe_scaled.copy().query(\"(sample=='sample-1')\").loc[:,[\"x\", \"y\", \"r\"]].reset_index(drop=True)\n",
    "sample = torch.tensor(sample.values).unsqueeze(0)\n",
    "print(sample.shape)\n",
    "plot_pointcloud(sample[0], plot_radius=False)"
   ]
  },
  {
   "cell_type": "markdown",
   "metadata": {},
   "source": [
    "## Train the model"
   ]
  },
  {
   "cell_type": "code",
   "execution_count": 21,
   "metadata": {},
   "outputs": [
    {
     "name": "stdout",
     "output_type": "stream",
     "text": [
      "Creating Dataset\n",
      "Descriptor List:  ['phi']\n"
     ]
    },
    {
     "data": {
      "text/plain": [
       "torch.Size([200, 80, 3])"
      ]
     },
     "execution_count": 21,
     "metadata": {},
     "output_type": "execute_result"
    }
   ],
   "source": [
    "run_params = {\n",
    "    \"training\":{\n",
    "        \"device\": \"mps\" if torch.backends.mps.is_available() else \"cpu\", # MPS is not supported by PyTorch 2D TransposeConv\n",
    "        \"batch_size\": 32,\n",
    "        \"epochs\": 5000,\n",
    "        \"early_stopping_patience\": 50, # Set to -1 to disable\n",
    "        \"early_stopping_headstart\": 0,\n",
    "        \"early_stopping_tolerance\": 1e-3, # Gradient norm based\n",
    "        \"log_image_frequency\": 5,\n",
    "        \"generator_headstart\": 0,\n",
    "        \"training_ratio_dg\": 3,\n",
    "        \"optimizer_g\": {\n",
    "            \"name\": \"Adam\", # AdamHD\n",
    "            \"lr\": 0.00005, # 0.00005, #0.0001, \n",
    "            # \"hypergrad_lr\": 1e-7,\n",
    "            \"weight_decay\": 0,\n",
    "            \"betas\": (0.5, 0.999)\n",
    "        },\n",
    "        \"optimizer_d\": {\n",
    "            \"name\": \"Adam\",\n",
    "            \"lr\": 0.00005, #0.002, \n",
    "            # \"hypergrad_lr\": 1e-6,\n",
    "            \"weight_decay\": 0,\n",
    "            \"betas\": (0.5, 0.999)\n",
    "        },\n",
    "        \"d_loss\": {\n",
    "            \"name\": \"CryinGANDiscriminatorLoss\", # CryinGANDiscriminatorLoss for WaGAN + L1 Gradient loss, set to 'BCELoss' for baseline\n",
    "            \"mu\": 1.0, # L1 loss coefficient\n",
    "        },\n",
    "        \"g_loss\": {\n",
    "            \"name\": \"HSGeneratorLoss\",\n",
    "            \"radius_loss\": 0,\n",
    "            \"grid_density_loss\": 0,\n",
    "            \"gan_loss\": 1,\n",
    "            \"distance_loss\": 0,\n",
    "            \"physical_feasibility_loss\": 0,\n",
    "            \"coefficients\":{\n",
    "                \"gan_loss\": 1,\n",
    "                \"radius_loss\": 0,\n",
    "                \"grid_density_loss\": 0,\n",
    "                \"physical_feasibility_loss\": 0,\n",
    "                \"distance_loss\": 0,\n",
    "            },\n",
    "        }\n",
    "    },\n",
    "    \"dataset\":{\n",
    "        \"descriptor_list\": [\"phi\"],\n",
    "        \"synthetic_samples\":{\n",
    "            \"rotational\": 0,\n",
    "            \"shuffling\": 0,\n",
    "            \"spatial_offset_static\": 0.1\n",
    "            }, # NOTE: Could do subsquares and more rotations.\n",
    "        # \"downsample\": 0 #TODO: Remove\n",
    "        \"downsample\": 0.05 #TODO: Remove\n",
    "    }\n",
    "}\n",
    "\n",
    "dataset = HSDataset(\n",
    "    dataframe_scaled.copy(), # Dont use the ordering\n",
    "    **run_params[\"dataset\"]\n",
    "    )\n",
    "dataset.y.shape"
   ]
  },
  {
   "cell_type": "markdown",
   "metadata": {},
   "source": [
    "# Create model\n",
    "\n",
    "Create a GAN architecture, which creates point clouds $\\hat{y}$ based on the descriptor(s) $\\hat{X}$ and a random noise vector $\\hat{z}$."
   ]
  },
  {
   "cell_type": "code",
   "execution_count": null,
   "metadata": {},
   "outputs": [
    {
     "name": "stdout",
     "output_type": "stream",
     "text": [
      "torch.Size([32, 1, 1]) torch.Size([32, 80, 3])\n",
      "160 40\n",
      "==========================================================================================\n",
      "Layer (type:depth-idx)                   Output Shape              Param #\n",
      "==========================================================================================\n",
      "CCCGenerator                             [32, 80, 3]               --\n",
      "├─Sequential: 1-1                        [32, 80, 2]               --\n",
      "│    └─Linear: 2-1                       [32, 20480]               10,526,720\n",
      "│    └─ReLU: 2-2                         [32, 20480]               --\n",
      "│    └─Unflatten: 2-3                    [32, 256, 80, 1]          --\n",
      "│    └─ConvTranspose2d: 2-4              [32, 128, 80, 2]          65,664\n",
      "│    └─BatchNorm2d: 2-5                  [32, 128, 80, 2]          256\n",
      "│    └─ReLU: 2-6                         [32, 128, 80, 2]          --\n",
      "│    └─ConvTranspose2d: 2-7              [32, 64, 80, 2]           8,256\n",
      "│    └─BatchNorm2d: 2-8                  [32, 64, 80, 2]           128\n",
      "│    └─ReLU: 2-9                         [32, 64, 80, 2]           --\n",
      "│    └─ConvTranspose2d: 2-10             [32, 32, 80, 2]           2,080\n",
      "│    └─BatchNorm2d: 2-11                 [32, 32, 80, 2]           64\n",
      "│    └─ReLU: 2-12                        [32, 32, 80, 2]           --\n",
      "│    └─ConvTranspose2d: 2-13             [32, 1, 80, 2]            33\n",
      "│    └─Flatten: 2-14                     [32, 80, 2]               --\n",
      "==========================================================================================\n",
      "Total params: 10,603,201\n",
      "Trainable params: 10,603,201\n",
      "Non-trainable params: 0\n",
      "Total mult-adds (Units.MEGABYTES): 726.16\n",
      "==========================================================================================\n",
      "Input size (MB): 0.00\n",
      "Forward/backward pass size (MB): 23.63\n",
      "Params size (MB): 42.41\n",
      "Estimated Total Size (MB): 66.05\n",
      "==========================================================================================\n",
      "==========================================================================================\n",
      "Layer (type:depth-idx)                   Output Shape              Param #\n",
      "==========================================================================================\n",
      "CCCGDiscriminator                        [32, 1]                   --\n",
      "├─Sequential: 1-1                        [32, 1024]                --\n",
      "│    └─Conv2d: 2-1                       [32, 256, 80, 1]          1,024\n",
      "│    └─LeakyReLU: 2-2                    [32, 256, 80, 1]          --\n",
      "│    └─Conv2d: 2-3                       [32, 512, 80, 1]          131,584\n",
      "│    └─LeakyReLU: 2-4                    [32, 512, 80, 1]          --\n",
      "│    └─Conv2d: 2-5                       [32, 1024, 80, 1]         525,312\n",
      "│    └─LeakyReLU: 2-6                    [32, 1024, 80, 1]         --\n",
      "│    └─AdaptiveAvgPool2d: 2-7            [32, 1024, 1, 1]          --\n",
      "│    └─Flatten: 2-8                      [32, 1024]                --\n",
      "├─Sequential: 1-2                        [32, 1]                   --\n",
      "│    └─Linear: 2-9                       [32, 1024]                1,049,600\n",
      "│    └─LeakyReLU: 2-10                   [32, 1024]                --\n",
      "│    └─Linear: 2-11                      [32, 256]                 262,400\n",
      "│    └─LeakyReLU: 2-12                   [32, 256]                 --\n",
      "│    └─Linear: 2-13                      [32, 10]                  2,570\n",
      "│    └─AdaptiveAvgPool1d: 2-14           [32, 1]                   --\n",
      "==========================================================================================\n",
      "Total params: 1,972,490\n",
      "Trainable params: 1,972,490\n",
      "Non-trainable params: 0\n",
      "Total mult-adds (Units.GIGABYTES): 1.73\n",
      "==========================================================================================\n",
      "Input size (MB): 0.03\n",
      "Forward/backward pass size (MB): 37.03\n",
      "Params size (MB): 7.89\n",
      "Estimated Total Size (MB): 44.95\n",
      "==========================================================================================\n"
     ]
    },
    {
     "data": {
      "text/plain": [
       "10603201"
      ]
     },
     "execution_count": 22,
     "metadata": {},
     "output_type": "execute_result"
    },
    {
     "data": {
      "image/png": "[encoded data removed]",
      "text/plain": [
       "<Figure size 640x480 with 1 Axes>"
      ]
     },
     "metadata": {},
     "output_type": "display_data"
    }
   ],
   "source": [
    "from src.models.CryinGAN import CCCGDiscriminator, CCCGeneratorWithDiffusion, CCCGenerator\n",
    "\n",
    "sample_x = dataset[0:32][0].cpu()\n",
    "sample_y = dataset[0:32][1].cpu()\n",
    "\n",
    "sample_x_mps = sample_x.to(\"mps\")\n",
    "sample_y_mps = sample_y.to(\"mps\")\n",
    "\n",
    "print(sample_x.shape, sample_y.shape)\n",
    "\n",
    "\n",
    "test_frac = 0.2\n",
    "\n",
    "dataset = dataset.to(run_params[\"training\"][\"device\"])\n",
    "trainset, testset = torch.utils.data.random_split(dataset, [1-test_frac, test_frac])\n",
    "print(len(trainset), len(testset))\n",
    "\n",
    "out_samples = dataset.samples[0].shape[1]\n",
    "out_dimensions = 2 #dataset.samples[0].shape[2]\n",
    "\n",
    "kernel_size = (1,1)\n",
    "stride=1\n",
    "\n",
    "generator = CCCGenerator(\n",
    "    kernel_size=kernel_size,\n",
    "    stride=stride,\n",
    "    channels_coefficient=1,\n",
    "    rand_features=513,# 513 for one paper, 64 for another,\n",
    "    out_dimensions=out_dimensions,\n",
    "    out_samples=out_samples,\n",
    "    latent_dim=256, # 128 for the papers\n",
    "    fix_r=0.0049,\n",
    "    clip_output = False\n",
    "    # (\n",
    "    #     dataset.y.min(dim=0).values.min(dim=0).values,\n",
    "    #     dataset.y.max(dim=0).values.max(dim=0).values\n",
    "    # )\n",
    "    ).to(\"mps\")\n",
    "\n",
    "\n",
    "input_channels = 3\n",
    "\n",
    "discriminator = CCCGDiscriminator(\n",
    "    input_channels=input_channels, # x,y,r\n",
    "    in_samples=out_samples, \n",
    "    kernel_size=(1,1),\n",
    "    channels_coefficient=3\n",
    "    ).to(\"mps\")\n",
    "\n",
    "gan = GAN(\n",
    "    dataset, \n",
    "    dataset,# No separate test set\n",
    "    generator_model=generator,\n",
    "    discriminator_model=discriminator,\n",
    "    **run_params\n",
    "    )\n",
    "\n",
    "print(summary(gan.generator, input_data=sample_x, depth=2))\n",
    "print(summary(gan.discriminator, input_data=sample_y_mps, depth=2))\n",
    "\n",
    "_out = gan.generate(sample_x)[0]\n",
    "\n",
    "plot_pointcloud(_out, plot_radius=False)\n",
    "10_603_201"
   ]
  },
  {
   "cell_type": "code",
   "execution_count": null,
   "metadata": {},
   "outputs": [],
   "source": [
    "gan.train_n_epochs(\n",
    "    epochs=run_params[\"training\"][\"epochs\"],\n",
    "    batch_size=run_params[\"training\"][\"batch_size\"],\n",
    "    experiment_name=\"Square lattice, small sample\",\n",
    "    requirements_file = Path(\"../top-level-requirements.txt\"),\n",
    ")\n",
    "\n",
    "generated = gan.generate(sample_x).cpu()\n",
    "\n",
    "plt.scatter(generated[0][:,0], generated[0][:,1].cpu())\n",
    "plt.title(\"Generated sample\")\n",
    "\n",
    "# run 'mlflow server --host 127.0.0.1 --port 8080' from the CLI to start the server"
   ]
  },
  {
   "cell_type": "markdown",
   "metadata": {},
   "source": [
    "## Test the discriminator with random data"
   ]
  },
  {
   "cell_type": "code",
   "execution_count": null,
   "metadata": {},
   "outputs": [],
   "source": [
    "# Test the discriminator with random data\n",
    "\n",
    "# Generate random data\n",
    "random_data = torch.rand_like(sample_y).to(\"mps\")\n",
    "random_data = torch.randn_like(sample_y).to(\"mps\")\n",
    "print(random_data.shape)\n",
    "\n",
    "plot_pointcloud(random_data[0].cpu().numpy(), plot_radius=False)\n",
    "\n",
    "# Test the discriminator\n",
    "\n",
    "output = gan.discriminator(random_data)\n",
    "print(output.shape)\n",
    "print(\"Mean of discriminator output:\", output.mean().item())\n",
    "plt.title(f\"Discriminator output: {output[0].item()}\")\n",
    "plt.show()"
   ]
  }
 ],
 "metadata": {
  "kernelspec": {
   "display_name": ".venv",
   "language": "python",
   "name": "python3"
  },
  "language_info": {
   "codemirror_mode": {
    "name": "ipython",
    "version": 3
   },
   "file_extension": ".py",
   "mimetype": "text/x-python",
   "name": "python",
   "nbconvert_exporter": "python",
   "pygments_lexer": "ipython3",
   "version": "3.12.4"
  }
 },
 "nbformat": 4,
 "nbformat_minor": 2
}
