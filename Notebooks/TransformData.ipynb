{
 "cells": [
  {
   "cell_type": "markdown",
   "metadata": {},
   "source": [
    "# Transform data\n",
    "\n",
    "\n",
    "Transforms the datasets we have to .xyz format, so they are compatible with the CryinGAN repository."
   ]
  },
  {
   "cell_type": "code",
   "execution_count": null,
   "metadata": {},
   "outputs": [],
   "source": [
    "import os\n",
    "import ase\n",
    "from ase.io import read, write\n",
    "import numpy as np\n",
    "\n",
    "from pathlib import Path\n",
    "\n",
    "%cd ..\n",
    "\n",
    "from src.utils import load_raw_data, read_raw_sample\n",
    "\n",
    "%cd -\n",
    "\n",
    "def makedir_if_not_exists(path):\n",
    "    try:\n",
    "        if not os.path.isdir(path):\n",
    "            print(\"Creating directory {}\".format(path))\n",
    "            os.mkdir(path)\n",
    "    except OSError:\n",
    "        print(\"Creation of the directory %s failed\" % path)\n",
    "        makedir_if_not_exists(path.parent) # Recursive call to create parent directory\n",
    "    return\n",
    "\n",
    "path = Path(\"../data/raw/crystal/Sq\")\n",
    "path = Path(\"../data/raw/samples\")\n",
    "\n",
    "\n",
    "phis = [0.84]\n",
    "files, dataframe, metadata = load_raw_data(path, phi=phis, subpath=\"\")\n",
    "files, dataframe, metadata = load_raw_data(path, phi=phis, subpath=\"\")\n"
   ]
  },
  {
   "cell_type": "code",
   "execution_count": null,
   "metadata": {},
   "outputs": [],
   "source": [
    "dataframe"
   ]
  },
  {
   "cell_type": "code",
   "execution_count": null,
   "metadata": {},
   "outputs": [],
   "source": [
    "import pandas as pd\n",
    "\n",
    "max_files = np.inf # NOTE: Limit the amount of data to speed up training\n",
    "\n",
    "processed_folder = Path(\"../data/processed/crystal/Sq/disorder-0.1\") # Output folder\n",
    "processed_folder = Path(\"../data/processed/samples\") # Output folder\n",
    "\n",
    "makedir_if_not_exists(processed_folder)\n",
    "\n",
    "# Dump as xyz with all data in a single file\n",
    "processed_file = Path(files[0].replace(\"raw\", \"processed\")).parent\n",
    "\n",
    "makedir_if_not_exists(processed_file.parent)\n",
    "\n",
    "\n",
    "if os.path.exists(processed_file):\n",
    "    os.remove(processed_file)\n",
    "\n",
    "\n",
    "for i, file in enumerate(files):\n",
    "    dataframe, metadata = read_raw_sample(file)\n",
    "\n",
    "    xyz = dataframe[[\"class\", \"x\", \"y\"]].reset_index(drop=True)\n",
    "\n",
    "    N = metadata.iloc[0,0] # N particles\n",
    "\n",
    "    xyz[\"z\"] = 0\n",
    "\n",
    "    # Create an ASE Atoms object\n",
    "\n",
    "    L = metadata[\"L\"].iloc[0]\n",
    "\n",
    "    # NOTE: Radius is not right\n",
    "    atoms = ase.Atoms(\n",
    "        numbers=xyz[\"class\"].values,\n",
    "        positions=xyz[[\"x\", \"y\", \"z\"]].values+[L/2, L/2, 0], # NOTE: Displace the system\n",
    "        cell=[L, L, 0], # NOTE: 2D system\n",
    "        pbc=[True, True, False], # NOTE: 2D system\n",
    "    )\n",
    "\n",
    "    # Save to xyz file\n",
    "    # NOTE: This is the format used by ASE\n",
    "\n",
    "    with open(processed_file, \"a+\") as f:\n",
    "        write(f, atoms, format=\"extxyz\", append=True)\n",
    "\n",
    "    # DEPRECATED: Save to xyz file by csv\n",
    "    # xyz.to_csv(\n",
    "    #     processed_file,\n",
    "    #     header=False,\n",
    "    #     index=False, \n",
    "    #     sep=\"\\t\", \n",
    "    #     mode=\"a+\",\n",
    "    #     )\n",
    "    \n",
    "    if i > max_files:\n",
    "        break\n",
    "\n",
    "\n",
    "display(dataframe.head(10))\n",
    "metadata"
   ]
  },
  {
   "cell_type": "code",
   "execution_count": null,
   "metadata": {},
   "outputs": [],
   "source": [
    "slab_from_file = read(processed_file, index=0, format=\"extxyz\")"
   ]
  },
  {
   "cell_type": "code",
   "execution_count": null,
   "metadata": {},
   "outputs": [],
   "source": [
    "from ase.visualize import view\n",
    "view(slab_from_file)"
   ]
  },
  {
   "cell_type": "markdown",
   "metadata": {},
   "source": [
    "Works"
   ]
  }
 ],
 "metadata": {
  "kernelspec": {
   "display_name": ".venv",
   "language": "python",
   "name": "python3"
  },
  "language_info": {
   "codemirror_mode": {
    "name": "ipython",
    "version": 3
   },
   "file_extension": ".py",
   "mimetype": "text/x-python",
   "name": "python",
   "nbconvert_exporter": "python",
   "pygments_lexer": "ipython3",
   "version": "3.12.4"
  }
 },
 "nbformat": 4,
 "nbformat_minor": 2
}
