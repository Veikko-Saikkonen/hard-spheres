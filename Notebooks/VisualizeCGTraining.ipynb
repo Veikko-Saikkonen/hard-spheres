{
 "cells": [
  {
   "cell_type": "markdown",
   "metadata": {},
   "source": [
    "# Visualize CryinGAN training"
   ]
  },
  {
   "cell_type": "code",
   "execution_count": null,
   "metadata": {},
   "outputs": [],
   "source": [
    "import seaborn as sns\n",
    "import pandas as pd\n",
    "from matplotlib import pyplot as plt\n",
    "import ase\n",
    "from ase.io import read, write\n",
    "from ase.visualize import view"
   ]
  },
  {
   "cell_type": "code",
   "execution_count": null,
   "metadata": {},
   "outputs": [],
   "source": [
    "all_runs = pd.read_csv(\"../CryinGAN_COPY/losses.csv\") # For square lattice\n",
    "all_runs = pd.read_csv(\"../CryinGAN/losses.csv\") # For full scale test\n",
    "\n",
    "run_starts = all_runs[\"epoch\"] == \"epoch\"\n",
    "\n",
    "# Filter out the rows that are not part of the runs\n",
    "# all_runs = all_runs[~run_starts]\n",
    "\n",
    "# Add \"run\" column\n",
    "all_runs[\"run\"] = 0\n",
    "\n",
    "run_idx = 0\n",
    "\n",
    "for i in range(1,len(all_runs)):\n",
    "    if run_starts[i]:\n",
    "        all_runs.loc[i:, \"run\"] = run_idx\n",
    "        run_idx += 1\n",
    "    else:\n",
    "        all_runs.loc[i, \"run\"] = run_idx\n",
    "\n",
    "# Remove the first row of each run\n",
    "all_runs = all_runs[~run_starts]\n",
    "all_runs.set_index([\"run\", \"epoch\"], inplace=True)\n",
    "all_runs = all_runs.astype(float)\n",
    "\n",
    "# Read and visualize losses csv\n",
    "\n",
    "run_idx = 0 # CHANGE THIS TO SELECT A RUN\n",
    "df = all_runs.loc[run_idx]\n",
    "\n",
    "fig = plt.figure(figsize=(20,10))\n",
    "sns.lineplot(data=df, figure=fig, marker=\"o\")\n",
    "plt.grid(which=\"both\")"
   ]
  },
  {
   "cell_type": "code",
   "execution_count": null,
   "metadata": {},
   "outputs": [],
   "source": [
    "fig = plt.figure(figsize=(20,10))\n",
    "sns.lineplot(data=df[[\"cost_gen\", \"D_fake\"]],figure=fig, marker=\"o\")"
   ]
  },
  {
   "cell_type": "markdown",
   "metadata": {},
   "source": [
    "## Check on the generated structures"
   ]
  },
  {
   "cell_type": "markdown",
   "metadata": {},
   "source": [
    "Numpy way from training-time generation"
   ]
  },
  {
   "cell_type": "code",
   "execution_count": null,
   "metadata": {},
   "outputs": [],
   "source": [
    "ref_struct = read(\"../data/reference/cryingan_train.extxyz\", index=1, format=\"extxyz\")\n",
    "ref_struct = read(\"../data/processed/crystal/Sq/phi-0.84/disorder-0.2\", index=1, format=\"extxyz\")\n",
    "ref_struct = read(\"../data/processed/samples/phi-0.84\", index=1, format=\"extxyz\")\n",
    "\n",
    "view(ref_struct, viewer=\"x3d\", show_unit_cell=True, repeat=(1,1,1))"
   ]
  },
  {
   "cell_type": "code",
   "execution_count": null,
   "metadata": {},
   "outputs": [],
   "source": [
    "import numpy as np\n",
    "file = \"../CryinGAN_COPY/gen_data/gen_coords_625.npy\"\n",
    "file = \"../CryinGAN/gen_data/gen_coords_130.npy\"\n",
    "np_coords = np.load(file)\n",
    "atoms = ref_struct.copy()\n",
    "atoms.set_scaled_positions(np_coords[0,0])\n",
    "view(atoms, viewer=\"x3d\", show_unit_cell=True, repeat=(1,1,1))"
   ]
  },
  {
   "cell_type": "code",
   "execution_count": null,
   "metadata": {},
   "outputs": [],
   "source": [
    "file = \"../data/reference/cryingan_train.extxyz\" # For reference data\n",
    "file = \"../data/processed/samples/phi-0.84\" # For reference data\n",
    "file = \"../CryinGAN_COPY/gen.extxyz\" # For generated data\n",
    "file = \"../CryinGAN/gen.extxyz\" # For generated data\n",
    "\n",
    "all_atoms = read(file, index=\":\", format=\"extxyz\")\n",
    "print(\"Read {} atoms\".format(len(all_atoms)))\n",
    "atoms = all_atoms[10] # For reference data\n",
    "\n",
    "view(atoms, viewer=\"x3d\", show_unit_cell=True, repeat=(1,1,1))"
   ]
  },
  {
   "cell_type": "markdown",
   "metadata": {},
   "source": [
    "# Next steps\n",
    "\n",
    "1. Provide Anshul with generated samples (50 each) in our data format\n",
    "   1. Low packing fraction 0.70\n",
    "   2. Mid 0.78\n",
    "   3. High packing fraction 0.84\n",
    "   4. Very high 0.86\n",
    "2. Special assignment: Try out different loss functions to make the generated structures more physically feasible (or something else)\n",
    "   1. Adding the bond distance discriminator\n",
    "   2. Radius / overlap loss\n",
    "   3. NN distance based loss\n",
    "   4. Hexatic (k=5) order loss\n",
    "   5. Other physical \n",
    "3. (Later: Conditioning on phi / other descriptors)"
   ]
  },
  {
   "cell_type": "code",
   "execution_count": null,
   "metadata": {},
   "outputs": [],
   "source": [
    "all_atoms[i].get_cell()"
   ]
  },
  {
   "cell_type": "code",
   "execution_count": null,
   "metadata": {},
   "outputs": [],
   "source": [
    "# Save the coordinates to a CSV file\n",
    "\n",
    "import os\n",
    "# os.mkdir(\"../data/gen\")\n",
    "# os.mkdir(\"../data/gen/phi-0.84\")\n",
    "\n",
    "for i in range(len(all_atoms)):\n",
    "    with open(f\"../data/gen/phi-0.84/sample-{i}\", \"w+\") as f:\n",
    "        \n",
    "        atoms = all_atoms[i]\n",
    "\n",
    "        L = atoms.get_cell()[0][0]\n",
    "        N = len(atoms)\n",
    "\n",
    "        header = \"\\t{N}\\t{L}\\t1626.81570886301\\t\\n\".format(N=N, L=L)\n",
    "        f.write(header)\n",
    "\n",
    "        _df = pd.DataFrame({\n",
    "            \"class\": atoms.get_atomic_numbers(),\n",
    "            \"x\": atoms.get_positions()[:,0],\n",
    "            \"y\": atoms.get_positions()[:,1],\n",
    "        }).to_csv(f, index=False, header=False, sep=\"\\t\")\n"
   ]
  }
 ],
 "metadata": {
  "kernelspec": {
   "display_name": ".venv",
   "language": "python",
   "name": "python3"
  },
  "language_info": {
   "codemirror_mode": {
    "name": "ipython",
    "version": 3
   },
   "file_extension": ".py",
   "mimetype": "text/x-python",
   "name": "python",
   "nbconvert_exporter": "python",
   "pygments_lexer": "ipython3",
   "version": "3.12.4"
  }
 },
 "nbformat": 4,
 "nbformat_minor": 2
}
