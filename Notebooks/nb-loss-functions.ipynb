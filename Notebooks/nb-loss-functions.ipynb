{
 "cells": [
  {
   "cell_type": "code",
   "execution_count": 2,
   "metadata": {},
   "outputs": [
    {
     "name": "stdout",
     "output_type": "stream",
     "text": [
      "/Users/veikko/Documents/GitHub/hard-spheres\n",
      "/Users/veikko/Documents/GitHub/hard-spheres/Notebooks\n"
     ]
    }
   ],
   "source": [
    "# Basic\n",
    "from IPython.display import display\n",
    "\n",
    "# For OS-agnostic paths\n",
    "from pathlib import Path\n",
    "\n",
    "# Plotting\n",
    "from matplotlib import pyplot as plt\n",
    "import seaborn as sns\n",
    "import torch\n",
    "from torch import nn\n",
    "import pandas as pd\n",
    "import numpy as np\n",
    "sns.set_style(\"whitegrid\")\n",
    "from copy import deepcopy\n",
    "import glob, json\n",
    "from datetime import datetime\n",
    "import torch\n",
    "from torch import nn\n",
    "\n",
    "from torch.utils.data import DataLoader, Dataset\n",
    "from torch.utils.data import DataLoader, Dataset, TensorDataset\n",
    "\n",
    "\n",
    "from torchinfo import summary\n",
    "\n",
    "import mlflow\n",
    "\n",
    "%cd ..\n",
    "\n",
    "from src.utils import load_raw_data\n",
    "from src.plotting import plot_pointcloud, plot_sample_figures\n",
    "from src.models.HardSphereGAN import GAN, HSGenerator, HSDiscriminator\n",
    "\n",
    "%cd -"
   ]
  },
  {
   "cell_type": "markdown",
   "metadata": {},
   "source": [
    "# Developing a loss function for density loss\n"
   ]
  },
  {
   "cell_type": "markdown",
   "metadata": {},
   "source": [
    "## Attempt 1"
   ]
  },
  {
   "cell_type": "code",
   "execution_count": 3,
   "metadata": {},
   "outputs": [
    {
     "data": {
      "text/plain": [
       "tensor([[2, 0],\n",
       "        [3, 2],\n",
       "        [2, 0],\n",
       "        [1, 2],\n",
       "        [3, 3],\n",
       "        [1, 1],\n",
       "        [3, 2],\n",
       "        [0, 2],\n",
       "        [2, 1],\n",
       "        [3, 3],\n",
       "        [2, 0],\n",
       "        [2, 3],\n",
       "        [3, 0],\n",
       "        [1, 1],\n",
       "        [1, 3],\n",
       "        [3, 0],\n",
       "        [2, 2],\n",
       "        [0, 1],\n",
       "        [0, 3],\n",
       "        [3, 3],\n",
       "        [1, 1],\n",
       "        [1, 0],\n",
       "        [1, 1],\n",
       "        [0, 3],\n",
       "        [1, 0],\n",
       "        [0, 1],\n",
       "        [1, 3],\n",
       "        [0, 0],\n",
       "        [1, 2],\n",
       "        [2, 1],\n",
       "        [1, 0],\n",
       "        [1, 3],\n",
       "        [1, 1],\n",
       "        [3, 0],\n",
       "        [2, 2],\n",
       "        [2, 3],\n",
       "        [2, 1],\n",
       "        [0, 3],\n",
       "        [0, 3],\n",
       "        [1, 1],\n",
       "        [1, 1],\n",
       "        [1, 3],\n",
       "        [2, 2],\n",
       "        [3, 2],\n",
       "        [3, 2],\n",
       "        [2, 1],\n",
       "        [1, 0],\n",
       "        [0, 0],\n",
       "        [3, 2],\n",
       "        [2, 2]])"
      ]
     },
     "execution_count": 3,
     "metadata": {},
     "output_type": "execute_result"
    },
    {
     "data": {
      "image/png": "[encoded data removed]",
      "text/plain": [
       "<Figure size 640x480 with 1 Axes>"
      ]
     },
     "metadata": {},
     "output_type": "display_data"
    }
   ],
   "source": [
    "# Set torch random seed for reproducibility\n",
    "torch.manual_seed(0)\n",
    "\n",
    "mock_data = torch.rand([50, 3])\n",
    "mock_data[:,2] *= 1\n",
    "\n",
    "plot_pointcloud(mock_data)\n",
    "\n",
    "def make_subgrid_mask_1d(lims, n):\n",
    "    lo, hi = lims\n",
    "    step = (hi - lo) / n\n",
    "    grid = torch.linspace(lo+step, hi-step, steps=n-1)\n",
    "    return grid\n",
    "\n",
    "def make_subgrid_mask2d(lims_x, lims_y, n_x, n_y):\n",
    "    # Break x-y in evenly distributed grid squares\n",
    "    \n",
    "    grid_x = make_subgrid_mask_1d(lims_x, n_x)\n",
    "    grid_y = make_subgrid_mask_1d(lims_y, n_y)\n",
    "\n",
    "    return grid_x, grid_y\n",
    "\n",
    "def count_subgrid_density(pointcloud):\n",
    "    # Expecting a pointcloud of format x,y,r\n",
    "\n",
    "    grid_steps = 4\n",
    "    lims = [0,1]\n",
    "\n",
    "    grid_x, grid_y = make_subgrid_mask2d(lims, lims, grid_steps, grid_steps)\n",
    "\n",
    "    # Mask the pointcloud for each step, returning a (samples, steps) matrix\n",
    "\n",
    "    xcoords = pointcloud[:,0].unsqueeze(0)\n",
    "    mask_x = (grid_x > xcoords.T).int()\n",
    "\n",
    "    ycoords = pointcloud[:,1].unsqueeze(0)\n",
    "    mask_y = (grid_y > ycoords.T).int() \n",
    "\n",
    "    mask_x = mask_x.sum(axis=1).unsqueeze(1)\n",
    "    mask_y = mask_y.sum(axis=1).unsqueeze(1)\n",
    "    grid_coordinates = torch.concat([mask_x, mask_y], dim=1)\n",
    "\n",
    "    # count_per_grid = # TODO: Implement\n",
    "\n",
    "    return grid_coordinates\n",
    "\n",
    "\n",
    "count_subgrid_density(mock_data)\n"
   ]
  },
  {
   "cell_type": "markdown",
   "metadata": {},
   "source": [
    "Problem: '>' and '<' operators have non-continuous gradients, which may be bad for learning.\n",
    "\n"
   ]
  },
  {
   "cell_type": "markdown",
   "metadata": {},
   "source": [
    "## Attempt 2: quantiles"
   ]
  },
  {
   "cell_type": "code",
   "execution_count": 8,
   "metadata": {},
   "outputs": [
    {
     "data": {
      "text/plain": [
       "tensor([[0.0979, 0.5002, 0.8762],\n",
       "        [0.9213, 0.5467, 0.6136],\n",
       "        [0.2835, 0.8774, 0.2919]])"
      ]
     },
     "execution_count": 8,
     "metadata": {},
     "output_type": "execute_result"
    }
   ],
   "source": [
    "mock_data = torch.rand([50, 3])\n",
    "mock_data[:3]\n"
   ]
  },
  {
   "cell_type": "code",
   "execution_count": 15,
   "metadata": {},
   "outputs": [
    {
     "data": {
      "text/plain": [
       "torch.float32"
      ]
     },
     "execution_count": 15,
     "metadata": {},
     "output_type": "execute_result"
    }
   ],
   "source": [
    "ground_truth = torch.rand([50, 3])\n",
    "ground_truth.dtype"
   ]
  },
  {
   "cell_type": "code",
   "execution_count": 23,
   "metadata": {},
   "outputs": [
    {
     "data": {
      "text/plain": [
       "tensor([0.1382, 0.2991, 0.5002, 0.6882, 0.8386])"
      ]
     },
     "execution_count": 23,
     "metadata": {},
     "output_type": "execute_result"
    }
   ],
   "source": [
    "\n",
    "ground_truth = torch.rand([50, 3])\n",
    "quantiles = torch.tensor([.05, .25, .50, .75, .95], dtype=torch.float32)\n",
    "# first two columns are x and y coordinates\n",
    "# Count the 5, 25, 50, 75, 95 quantiles for the first two columns and compare to the ground truth\n",
    "\n",
    "x_q = torch.quantile(mock_data[0], quantiles)\n",
    "real_q = torch.quantile(ground_truth[0], quantiles)\n",
    "\n",
    "nn.MSELoss()(real_q, x_q)\n",
    "\n",
    "x_q"
   ]
  },
  {
   "cell_type": "code",
   "execution_count": 6,
   "metadata": {},
   "outputs": [
    {
     "data": {
      "text/plain": [
       "tensor(0.1054)"
      ]
     },
     "execution_count": 6,
     "metadata": {},
     "output_type": "execute_result"
    }
   ],
   "source": [
    "import torch\n",
    "\n",
    "def _non_saturating_gan_loss(fake_outputs):\n",
    "        return -torch.mean(torch.log(fake_outputs))\n",
    "\n",
    "\n",
    "fake_outputs = torch.tensor([.9, .9, .9, .9, .9])\n",
    "\n",
    "_non_saturating_gan_loss(fake_outputs)"
   ]
  }
 ],
 "metadata": {
  "kernelspec": {
   "display_name": ".venv",
   "language": "python",
   "name": "python3"
  },
  "language_info": {
   "codemirror_mode": {
    "name": "ipython",
    "version": 3
   },
   "file_extension": ".py",
   "mimetype": "text/x-python",
   "name": "python",
   "nbconvert_exporter": "python",
   "pygments_lexer": "ipython3",
   "version": "3.12.4"
  }
 },
 "nbformat": 4,
 "nbformat_minor": 2
}
